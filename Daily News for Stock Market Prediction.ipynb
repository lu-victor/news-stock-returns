{
 "cells": [
  {
   "cell_type": "markdown",
   "metadata": {},
   "source": [
    "<h3>Predicting the sign of stock returns with daily news"
   ]
  },
  {
   "cell_type": "markdown",
   "metadata": {},
   "source": [
    "News are important in predicting stock returns. Good news about a company are often followed with positive returns whereas bad news are followed by negative returns. Therefore, correctly incorporating the news information in trading strategies is key for the strategies to be profitable. Numerous papers have been proposed to handle this task:\n",
    "* \"Trading Strategies to Exploit Blog and News Sentiment\" (Zhang, Skiena 2010)\n",
    "* \"The Predictive Power of Financial Blogs\" (Frisbee 2010)\n",
    "* \"An analysis of verbs in financial news articles and their impact on stock price\" (Schumaker 2010)\n",
    "\n",
    "\n",
    "In this study, the problem of stock return prediction will simplified into a classification task. The goal will be to predict whether the Dow Jones Industrial Average a given day is positive or negative given the headline news the given day. \n",
    "\n",
    "Datasets and Inputs\n",
    "\n",
    "For this study, I will use the data from `Sun, J. (2016, August). Daily News for Stock Market Prediction, Version 1. https://www.kaggle.com/aaron7sun/stocknews.`\n",
    "I will use the Combined_News_DJIA.csv dataset which contains:\n",
    "* News data: the top 25 historical news headlines from Reddit WorldNews Channel from 2008-08-08 to 2016-07-01. \n",
    "* Dow Jones Industrial Average (DJIA) returns as labels: the label is 1 is the return that day is nonnegative and 0 when the return is negative. \n",
    "\n",
    "Evaluation Metrics\n",
    "\n",
    "For task evaluation, I will use data from 2008-08-08 to 2014-12-31 as Training Set and the Test Set will be the following years data: from 2015-01-02 to 2016-07-01.\n",
    "The classes in the test set are well balanced, therefore we will not consider the AUROC metric and consider simply the Accuracy metric.\n"
   ]
  },
  {
   "cell_type": "code",
   "execution_count": 16,
   "metadata": {},
   "outputs": [],
   "source": [
    "import numpy as np\n",
    "import matplotlib.pyplot as plt\n",
    "import pandas as pd\n",
    "from sklearn.feature_extraction.text import CountVectorizer\n",
    "from sklearn.linear_model import LogisticRegression\n",
    "from sklearn.ensemble import RandomForestClassifier\n",
    "import re\n",
    "import seaborn as sns\n",
    "sns.set()\n",
    "import warnings\n",
    "warnings.filterwarnings('ignore')\n",
    "import string"
   ]
  },
  {
   "cell_type": "code",
   "execution_count": 2,
   "metadata": {},
   "outputs": [],
   "source": [
    "data = pd.read_csv('Combined_News_DJIA.csv')"
   ]
  },
  {
   "cell_type": "code",
   "execution_count": 3,
   "metadata": {},
   "outputs": [
    {
     "data": {
      "text/html": [
       "<div>\n",
       "<style scoped>\n",
       "    .dataframe tbody tr th:only-of-type {\n",
       "        vertical-align: middle;\n",
       "    }\n",
       "\n",
       "    .dataframe tbody tr th {\n",
       "        vertical-align: top;\n",
       "    }\n",
       "\n",
       "    .dataframe thead th {\n",
       "        text-align: right;\n",
       "    }\n",
       "</style>\n",
       "<table border=\"1\" class=\"dataframe\">\n",
       "  <thead>\n",
       "    <tr style=\"text-align: right;\">\n",
       "      <th></th>\n",
       "      <th>Date</th>\n",
       "      <th>Label</th>\n",
       "      <th>Top1</th>\n",
       "      <th>Top2</th>\n",
       "      <th>Top3</th>\n",
       "      <th>Top4</th>\n",
       "      <th>Top5</th>\n",
       "      <th>Top6</th>\n",
       "      <th>Top7</th>\n",
       "      <th>Top8</th>\n",
       "      <th>...</th>\n",
       "      <th>Top16</th>\n",
       "      <th>Top17</th>\n",
       "      <th>Top18</th>\n",
       "      <th>Top19</th>\n",
       "      <th>Top20</th>\n",
       "      <th>Top21</th>\n",
       "      <th>Top22</th>\n",
       "      <th>Top23</th>\n",
       "      <th>Top24</th>\n",
       "      <th>Top25</th>\n",
       "    </tr>\n",
       "  </thead>\n",
       "  <tbody>\n",
       "    <tr>\n",
       "      <th>0</th>\n",
       "      <td>2008-08-08</td>\n",
       "      <td>0</td>\n",
       "      <td>b\"Georgia 'downs two Russian warplanes' as cou...</td>\n",
       "      <td>b'BREAKING: Musharraf to be impeached.'</td>\n",
       "      <td>b'Russia Today: Columns of troops roll into So...</td>\n",
       "      <td>b'Russian tanks are moving towards the capital...</td>\n",
       "      <td>b\"Afghan children raped with 'impunity,' U.N. ...</td>\n",
       "      <td>b'150 Russian tanks have entered South Ossetia...</td>\n",
       "      <td>b\"Breaking: Georgia invades South Ossetia, Rus...</td>\n",
       "      <td>b\"The 'enemy combatent' trials are nothing but...</td>\n",
       "      <td>...</td>\n",
       "      <td>b'Georgia Invades South Ossetia - if Russia ge...</td>\n",
       "      <td>b'Al-Qaeda Faces Islamist Backlash'</td>\n",
       "      <td>b'Condoleezza Rice: \"The US would not act to p...</td>\n",
       "      <td>b'This is a busy day:  The European Union has ...</td>\n",
       "      <td>b\"Georgia will withdraw 1,000 soldiers from Ir...</td>\n",
       "      <td>b'Why the Pentagon Thinks Attacking Iran is a ...</td>\n",
       "      <td>b'Caucasus in crisis: Georgia invades South Os...</td>\n",
       "      <td>b'Indian shoe manufactory  - And again in a se...</td>\n",
       "      <td>b'Visitors Suffering from Mental Illnesses Ban...</td>\n",
       "      <td>b\"No Help for Mexico's Kidnapping Surge\"</td>\n",
       "    </tr>\n",
       "    <tr>\n",
       "      <th>1</th>\n",
       "      <td>2008-08-11</td>\n",
       "      <td>1</td>\n",
       "      <td>b'Why wont America and Nato help us? If they w...</td>\n",
       "      <td>b'Bush puts foot down on Georgian conflict'</td>\n",
       "      <td>b\"Jewish Georgian minister: Thanks to Israeli ...</td>\n",
       "      <td>b'Georgian army flees in disarray as Russians ...</td>\n",
       "      <td>b\"Olympic opening ceremony fireworks 'faked'\"</td>\n",
       "      <td>b'What were the Mossad with fraudulent New Zea...</td>\n",
       "      <td>b'Russia angered by Israeli military sale to G...</td>\n",
       "      <td>b'An American citizen living in S.Ossetia blam...</td>\n",
       "      <td>...</td>\n",
       "      <td>b'Israel and the US behind the Georgian aggres...</td>\n",
       "      <td>b'\"Do not believe TV, neither Russian nor Geor...</td>\n",
       "      <td>b'Riots are still going on in Montreal (Canada...</td>\n",
       "      <td>b'China to overtake US as largest manufacturer'</td>\n",
       "      <td>b'War in South Ossetia [PICS]'</td>\n",
       "      <td>b'Israeli Physicians Group Condemns State Tort...</td>\n",
       "      <td>b' Russia has just beaten the United States ov...</td>\n",
       "      <td>b'Perhaps *the* question about the Georgia - R...</td>\n",
       "      <td>b'Russia is so much better at war'</td>\n",
       "      <td>b\"So this is what it's come to: trading sex fo...</td>\n",
       "    </tr>\n",
       "    <tr>\n",
       "      <th>2</th>\n",
       "      <td>2008-08-12</td>\n",
       "      <td>0</td>\n",
       "      <td>b'Remember that adorable 9-year-old who sang a...</td>\n",
       "      <td>b\"Russia 'ends Georgia operation'\"</td>\n",
       "      <td>b'\"If we had no sexual harassment we would hav...</td>\n",
       "      <td>b\"Al-Qa'eda is losing support in Iraq because ...</td>\n",
       "      <td>b'Ceasefire in Georgia: Putin Outmaneuvers the...</td>\n",
       "      <td>b'Why Microsoft and Intel tried to kill the XO...</td>\n",
       "      <td>b'Stratfor: The Russo-Georgian War and the Bal...</td>\n",
       "      <td>b\"I'm Trying to Get a Sense of This Whole Geor...</td>\n",
       "      <td>...</td>\n",
       "      <td>b'U.S. troops still in Georgia (did you know t...</td>\n",
       "      <td>b'Why Russias response to Georgia was right'</td>\n",
       "      <td>b'Gorbachev accuses U.S. of making a \"serious ...</td>\n",
       "      <td>b'Russia, Georgia, and NATO: Cold War Two'</td>\n",
       "      <td>b'Remember that adorable 62-year-old who led y...</td>\n",
       "      <td>b'War in Georgia: The Israeli connection'</td>\n",
       "      <td>b'All signs point to the US encouraging Georgi...</td>\n",
       "      <td>b'Christopher King argues that the US and NATO...</td>\n",
       "      <td>b'America: The New Mexico?'</td>\n",
       "      <td>b\"BBC NEWS | Asia-Pacific | Extinction 'by man...</td>\n",
       "    </tr>\n",
       "    <tr>\n",
       "      <th>3</th>\n",
       "      <td>2008-08-13</td>\n",
       "      <td>0</td>\n",
       "      <td>b' U.S. refuses Israel weapons to attack Iran:...</td>\n",
       "      <td>b\"When the president ordered to attack Tskhinv...</td>\n",
       "      <td>b' Israel clears troops who killed Reuters cam...</td>\n",
       "      <td>b'Britain\\'s policy of being tough on drugs is...</td>\n",
       "      <td>b'Body of 14 year old found in trunk; Latest (...</td>\n",
       "      <td>b'China has moved 10 *million* quake survivors...</td>\n",
       "      <td>b\"Bush announces Operation Get All Up In Russi...</td>\n",
       "      <td>b'Russian forces sink Georgian ships '</td>\n",
       "      <td>...</td>\n",
       "      <td>b'Elephants extinct by 2020?'</td>\n",
       "      <td>b'US humanitarian missions soon in Georgia - i...</td>\n",
       "      <td>b\"Georgia's DDOS came from US sources\"</td>\n",
       "      <td>b'Russian convoy heads into Georgia, violating...</td>\n",
       "      <td>b'Israeli defence minister: US against strike ...</td>\n",
       "      <td>b'Gorbachev: We Had No Choice'</td>\n",
       "      <td>b'Witness: Russian forces head towards Tbilisi...</td>\n",
       "      <td>b' Quarter of Russians blame U.S. for conflict...</td>\n",
       "      <td>b'Georgian president  says US military will ta...</td>\n",
       "      <td>b'2006: Nobel laureate Aleksander Solzhenitsyn...</td>\n",
       "    </tr>\n",
       "    <tr>\n",
       "      <th>4</th>\n",
       "      <td>2008-08-14</td>\n",
       "      <td>1</td>\n",
       "      <td>b'All the experts admit that we should legalis...</td>\n",
       "      <td>b'War in South Osetia - 89 pictures made by a ...</td>\n",
       "      <td>b'Swedish wrestler Ara Abrahamian throws away ...</td>\n",
       "      <td>b'Russia exaggerated the death toll in South O...</td>\n",
       "      <td>b'Missile That Killed 9 Inside Pakistan May Ha...</td>\n",
       "      <td>b\"Rushdie Condemns Random House's Refusal to P...</td>\n",
       "      <td>b'Poland and US agree to missle defense deal. ...</td>\n",
       "      <td>b'Will the Russians conquer Tblisi? Bet on it,...</td>\n",
       "      <td>...</td>\n",
       "      <td>b'Bank analyst forecast Georgian crisis 2 days...</td>\n",
       "      <td>b\"Georgia confict could set back Russia's US r...</td>\n",
       "      <td>b'War in the Caucasus is as much the product o...</td>\n",
       "      <td>b'\"Non-media\" photos of South Ossetia/Georgia ...</td>\n",
       "      <td>b'Georgian TV reporter shot by Russian sniper ...</td>\n",
       "      <td>b'Saudi Arabia: Mother moves to block child ma...</td>\n",
       "      <td>b'Taliban wages war on humanitarian aid workers'</td>\n",
       "      <td>b'Russia: World  \"can forget about\" Georgia\\'s...</td>\n",
       "      <td>b'Darfur rebels accuse Sudan of mounting major...</td>\n",
       "      <td>b'Philippines : Peace Advocate say Muslims nee...</td>\n",
       "    </tr>\n",
       "  </tbody>\n",
       "</table>\n",
       "<p>5 rows × 27 columns</p>\n",
       "</div>"
      ],
      "text/plain": [
       "         Date  Label                                               Top1  \\\n",
       "0  2008-08-08      0  b\"Georgia 'downs two Russian warplanes' as cou...   \n",
       "1  2008-08-11      1  b'Why wont America and Nato help us? If they w...   \n",
       "2  2008-08-12      0  b'Remember that adorable 9-year-old who sang a...   \n",
       "3  2008-08-13      0  b' U.S. refuses Israel weapons to attack Iran:...   \n",
       "4  2008-08-14      1  b'All the experts admit that we should legalis...   \n",
       "\n",
       "                                                Top2  \\\n",
       "0            b'BREAKING: Musharraf to be impeached.'   \n",
       "1        b'Bush puts foot down on Georgian conflict'   \n",
       "2                 b\"Russia 'ends Georgia operation'\"   \n",
       "3  b\"When the president ordered to attack Tskhinv...   \n",
       "4  b'War in South Osetia - 89 pictures made by a ...   \n",
       "\n",
       "                                                Top3  \\\n",
       "0  b'Russia Today: Columns of troops roll into So...   \n",
       "1  b\"Jewish Georgian minister: Thanks to Israeli ...   \n",
       "2  b'\"If we had no sexual harassment we would hav...   \n",
       "3  b' Israel clears troops who killed Reuters cam...   \n",
       "4  b'Swedish wrestler Ara Abrahamian throws away ...   \n",
       "\n",
       "                                                Top4  \\\n",
       "0  b'Russian tanks are moving towards the capital...   \n",
       "1  b'Georgian army flees in disarray as Russians ...   \n",
       "2  b\"Al-Qa'eda is losing support in Iraq because ...   \n",
       "3  b'Britain\\'s policy of being tough on drugs is...   \n",
       "4  b'Russia exaggerated the death toll in South O...   \n",
       "\n",
       "                                                Top5  \\\n",
       "0  b\"Afghan children raped with 'impunity,' U.N. ...   \n",
       "1      b\"Olympic opening ceremony fireworks 'faked'\"   \n",
       "2  b'Ceasefire in Georgia: Putin Outmaneuvers the...   \n",
       "3  b'Body of 14 year old found in trunk; Latest (...   \n",
       "4  b'Missile That Killed 9 Inside Pakistan May Ha...   \n",
       "\n",
       "                                                Top6  \\\n",
       "0  b'150 Russian tanks have entered South Ossetia...   \n",
       "1  b'What were the Mossad with fraudulent New Zea...   \n",
       "2  b'Why Microsoft and Intel tried to kill the XO...   \n",
       "3  b'China has moved 10 *million* quake survivors...   \n",
       "4  b\"Rushdie Condemns Random House's Refusal to P...   \n",
       "\n",
       "                                                Top7  \\\n",
       "0  b\"Breaking: Georgia invades South Ossetia, Rus...   \n",
       "1  b'Russia angered by Israeli military sale to G...   \n",
       "2  b'Stratfor: The Russo-Georgian War and the Bal...   \n",
       "3  b\"Bush announces Operation Get All Up In Russi...   \n",
       "4  b'Poland and US agree to missle defense deal. ...   \n",
       "\n",
       "                                                Top8  ...  \\\n",
       "0  b\"The 'enemy combatent' trials are nothing but...  ...   \n",
       "1  b'An American citizen living in S.Ossetia blam...  ...   \n",
       "2  b\"I'm Trying to Get a Sense of This Whole Geor...  ...   \n",
       "3             b'Russian forces sink Georgian ships '  ...   \n",
       "4  b'Will the Russians conquer Tblisi? Bet on it,...  ...   \n",
       "\n",
       "                                               Top16  \\\n",
       "0  b'Georgia Invades South Ossetia - if Russia ge...   \n",
       "1  b'Israel and the US behind the Georgian aggres...   \n",
       "2  b'U.S. troops still in Georgia (did you know t...   \n",
       "3                      b'Elephants extinct by 2020?'   \n",
       "4  b'Bank analyst forecast Georgian crisis 2 days...   \n",
       "\n",
       "                                               Top17  \\\n",
       "0                b'Al-Qaeda Faces Islamist Backlash'   \n",
       "1  b'\"Do not believe TV, neither Russian nor Geor...   \n",
       "2       b'Why Russias response to Georgia was right'   \n",
       "3  b'US humanitarian missions soon in Georgia - i...   \n",
       "4  b\"Georgia confict could set back Russia's US r...   \n",
       "\n",
       "                                               Top18  \\\n",
       "0  b'Condoleezza Rice: \"The US would not act to p...   \n",
       "1  b'Riots are still going on in Montreal (Canada...   \n",
       "2  b'Gorbachev accuses U.S. of making a \"serious ...   \n",
       "3             b\"Georgia's DDOS came from US sources\"   \n",
       "4  b'War in the Caucasus is as much the product o...   \n",
       "\n",
       "                                               Top19  \\\n",
       "0  b'This is a busy day:  The European Union has ...   \n",
       "1    b'China to overtake US as largest manufacturer'   \n",
       "2         b'Russia, Georgia, and NATO: Cold War Two'   \n",
       "3  b'Russian convoy heads into Georgia, violating...   \n",
       "4  b'\"Non-media\" photos of South Ossetia/Georgia ...   \n",
       "\n",
       "                                               Top20  \\\n",
       "0  b\"Georgia will withdraw 1,000 soldiers from Ir...   \n",
       "1                     b'War in South Ossetia [PICS]'   \n",
       "2  b'Remember that adorable 62-year-old who led y...   \n",
       "3  b'Israeli defence minister: US against strike ...   \n",
       "4  b'Georgian TV reporter shot by Russian sniper ...   \n",
       "\n",
       "                                               Top21  \\\n",
       "0  b'Why the Pentagon Thinks Attacking Iran is a ...   \n",
       "1  b'Israeli Physicians Group Condemns State Tort...   \n",
       "2          b'War in Georgia: The Israeli connection'   \n",
       "3                     b'Gorbachev: We Had No Choice'   \n",
       "4  b'Saudi Arabia: Mother moves to block child ma...   \n",
       "\n",
       "                                               Top22  \\\n",
       "0  b'Caucasus in crisis: Georgia invades South Os...   \n",
       "1  b' Russia has just beaten the United States ov...   \n",
       "2  b'All signs point to the US encouraging Georgi...   \n",
       "3  b'Witness: Russian forces head towards Tbilisi...   \n",
       "4   b'Taliban wages war on humanitarian aid workers'   \n",
       "\n",
       "                                               Top23  \\\n",
       "0  b'Indian shoe manufactory  - And again in a se...   \n",
       "1  b'Perhaps *the* question about the Georgia - R...   \n",
       "2  b'Christopher King argues that the US and NATO...   \n",
       "3  b' Quarter of Russians blame U.S. for conflict...   \n",
       "4  b'Russia: World  \"can forget about\" Georgia\\'s...   \n",
       "\n",
       "                                               Top24  \\\n",
       "0  b'Visitors Suffering from Mental Illnesses Ban...   \n",
       "1                 b'Russia is so much better at war'   \n",
       "2                        b'America: The New Mexico?'   \n",
       "3  b'Georgian president  says US military will ta...   \n",
       "4  b'Darfur rebels accuse Sudan of mounting major...   \n",
       "\n",
       "                                               Top25  \n",
       "0           b\"No Help for Mexico's Kidnapping Surge\"  \n",
       "1  b\"So this is what it's come to: trading sex fo...  \n",
       "2  b\"BBC NEWS | Asia-Pacific | Extinction 'by man...  \n",
       "3  b'2006: Nobel laureate Aleksander Solzhenitsyn...  \n",
       "4  b'Philippines : Peace Advocate say Muslims nee...  \n",
       "\n",
       "[5 rows x 27 columns]"
      ]
     },
     "execution_count": 3,
     "metadata": {},
     "output_type": "execute_result"
    }
   ],
   "source": [
    "data.head()"
   ]
  },
  {
   "cell_type": "code",
   "execution_count": 4,
   "metadata": {},
   "outputs": [],
   "source": [
    "train = data[data['Date'] < '2015-01-01']\n",
    "test = data[data['Date'] > '2014-12-31']"
   ]
  },
  {
   "cell_type": "code",
   "execution_count": 5,
   "metadata": {},
   "outputs": [
    {
     "data": {
      "text/plain": [
       "1    873\n",
       "0    738\n",
       "Name: Label, dtype: int64"
      ]
     },
     "execution_count": 5,
     "metadata": {},
     "output_type": "execute_result"
    }
   ],
   "source": [
    "train['Label'].value_counts()"
   ]
  },
  {
   "cell_type": "code",
   "execution_count": 6,
   "metadata": {
    "scrolled": true
   },
   "outputs": [
    {
     "data": {
      "text/plain": [
       "1    192\n",
       "0    186\n",
       "Name: Label, dtype: int64"
      ]
     },
     "execution_count": 6,
     "metadata": {},
     "output_type": "execute_result"
    }
   ],
   "source": [
    "test['Label'].value_counts()"
   ]
  },
  {
   "cell_type": "markdown",
   "metadata": {},
   "source": [
    "If we predict the most common class (1), we get an accuracy of 192/(192+186) = 50.79%. \n",
    "\n",
    "This number is the accuracy of the benchmark model that we want to beat:\n",
    "\n",
    "$$Accuracy_{benchmark} = 50.79\\% $$ "
   ]
  },
  {
   "cell_type": "code",
   "execution_count": 7,
   "metadata": {
    "scrolled": true
   },
   "outputs": [
    {
     "data": {
      "text/plain": [
       "(1611, 27)"
      ]
     },
     "execution_count": 7,
     "metadata": {},
     "output_type": "execute_result"
    }
   ],
   "source": [
    "train.shape"
   ]
  },
  {
   "cell_type": "code",
   "execution_count": 8,
   "metadata": {},
   "outputs": [
    {
     "data": {
      "text/plain": [
       "(378, 27)"
      ]
     },
     "execution_count": 8,
     "metadata": {},
     "output_type": "execute_result"
    }
   ],
   "source": [
    "test.shape"
   ]
  },
  {
   "cell_type": "code",
   "execution_count": 9,
   "metadata": {},
   "outputs": [],
   "source": [
    "trainheadlines = []\n",
    "for row in range(0,len(train)):\n",
    "    trainheadlines.append(' '.join(str(x) for x in train.iloc[row,2:27]))"
   ]
  },
  {
   "cell_type": "code",
   "execution_count": 10,
   "metadata": {
    "scrolled": true
   },
   "outputs": [
    {
     "data": {
      "text/plain": [
       "'b\"Georgia \\'downs two Russian warplanes\\' as countries move to brink of war\" b\\'BREAKING: Musharraf to be impeached.\\' b\\'Russia Today: Columns of troops roll into South Ossetia; footage from fighting (YouTube)\\' b\\'Russian tanks are moving towards the capital of South Ossetia, which has reportedly been completely destroyed by Georgian artillery fire\\' b\"Afghan children raped with \\'impunity,\\' U.N. official says - this is sick, a three year old was raped and they do nothing\" b\\'150 Russian tanks have entered South Ossetia whilst Georgia shoots down two Russian jets.\\' b\"Breaking: Georgia invades South Ossetia, Russia warned it would intervene on SO\\'s side\" b\"The \\'enemy combatent\\' trials are nothing but a sham: Salim Haman has been sentenced to 5 1/2 years, but will be kept longer anyway just because they feel like it.\" b\\'Georgian troops retreat from S. Osettain capital, presumably leaving several hundred people killed. [VIDEO]\\' b\\'Did the U.S. Prep Georgia for War with Russia?\\' b\\'Rice Gives Green Light for Israel to Attack Iran: Says U.S. has no veto over Israeli military ops\\' b\\'Announcing:Class Action Lawsuit on Behalf of American Public Against the FBI\\' b\"So---Russia and Georgia are at war and the NYT\\'s top story is opening ceremonies of the Olympics?  What a fucking disgrace and yet further proof of the decline of journalism.\" b\"China tells Bush to stay out of other countries\\' affairs\" b\\'Did World War III start today?\\' b\\'Georgia Invades South Ossetia - if Russia gets involved, will NATO absorb Georgia and unleash a full scale war?\\' b\\'Al-Qaeda Faces Islamist Backlash\\' b\\'Condoleezza Rice: \"The US would not act to prevent an Israeli strike on Iran.\" Israeli Defense Minister Ehud Barak: \"Israel is prepared for uncompromising victory in the case of military hostilities.\"\\' b\\'This is a busy day:  The European Union has approved new sanctions against Iran in protest at its nuclear programme.\\' b\"Georgia will withdraw 1,000 soldiers from Iraq to help fight off Russian forces in Georgia\\'s breakaway region of South Ossetia\" b\\'Why the Pentagon Thinks Attacking Iran is a Bad Idea - US News &amp; World Report\\' b\\'Caucasus in crisis: Georgia invades South Ossetia\\' b\\'Indian shoe manufactory  - And again in a series of \"you do not like your work?\"\\' b\\'Visitors Suffering from Mental Illnesses Banned from Olympics\\' b\"No Help for Mexico\\'s Kidnapping Surge\"'"
      ]
     },
     "execution_count": 10,
     "metadata": {},
     "output_type": "execute_result"
    }
   ],
   "source": [
    "trainheadlines[0]"
   ]
  },
  {
   "cell_type": "markdown",
   "metadata": {},
   "source": [
    "<h3>Text Processing"
   ]
  },
  {
   "cell_type": "markdown",
   "metadata": {},
   "source": [
    "a) First, let's remove the sequence `\"b\" + punctuation` that is characteristic in our dataset"
   ]
  },
  {
   "cell_type": "code",
   "execution_count": 11,
   "metadata": {},
   "outputs": [],
   "source": [
    "for i in range(0, len(trainheadlines)):\n",
    "    trainheadlines[i] = re.sub('b[^a-zA-Z ]', '', trainheadlines[i])"
   ]
  },
  {
   "cell_type": "code",
   "execution_count": 12,
   "metadata": {},
   "outputs": [
    {
     "data": {
      "text/plain": [
       "'Georgia \\'downs two Russian warplanes\\' as countries move to brink of war\" BREAKING: Musharraf to be impeached.\\' Russia Today: Columns of troops roll into South Ossetia; footage from fighting (YouTube)\\' Russian tanks are moving towards the capital of South Ossetia, which has reportedly been completely destroyed by Georgian artillery fire\\' Afghan children raped with \\'impunity,\\' U.N. official says - this is sick, a three year old was raped and they do nothing\" 150 Russian tanks have entered South Ossetia whilst Georgia shoots down two Russian jets.\\' Breaking: Georgia invades South Ossetia, Russia warned it would intervene on SO\\'s side\" The \\'enemy combatent\\' trials are nothing but a sham: Salim Haman has been sentenced to 5 1/2 years, but will be kept longer anyway just because they feel like it.\" Georgian troops retreat from S. Osettain capital, presumably leaving several hundred people killed. [VIDEO]\\' Did the U.S. Prep Georgia for War with Russia?\\' Rice Gives Green Light for Israel to Attack Iran: Says U.S. has no veto over Israeli military ops\\' Announcing:Class Action Lawsuit on Behalf of American Public Against the FBI\\' So---Russia and Georgia are at war and the NYT\\'s top story is opening ceremonies of the Olympics?  What a fucking disgrace and yet further proof of the decline of journalism.\" China tells Bush to stay out of other countries\\' affairs\" Did World War III start today?\\' Georgia Invades South Ossetia - if Russia gets involved, will NATO absorb Georgia and unleash a full scale war?\\' Al-Qaeda Faces Islamist Backlash\\' Condoleezza Rice: \"The US would not act to prevent an Israeli strike on Iran.\" Israeli Defense Minister Ehud Barak: \"Israel is prepared for uncompromising victory in the case of military hostilities.\"\\' This is a busy day:  The European Union has approved new sanctions against Iran in protest at its nuclear programme.\\' Georgia will withdraw 1,000 soldiers from Iraq to help fight off Russian forces in Georgia\\'s breakaway region of South Ossetia\" Why the Pentagon Thinks Attacking Iran is a Bad Idea - US News &amp; World Report\\' Caucasus in crisis: Georgia invades South Ossetia\\' Indian shoe manufactory  - And again in a series of \"you do not like your work?\"\\' Visitors Suffering from Mental Illnesses Banned from Olympics\\' No Help for Mexico\\'s Kidnapping Surge\"'"
      ]
     },
     "execution_count": 12,
     "metadata": {},
     "output_type": "execute_result"
    }
   ],
   "source": [
    "trainheadlines[0]"
   ]
  },
  {
   "cell_type": "markdown",
   "metadata": {},
   "source": [
    "b) Remove numbers"
   ]
  },
  {
   "cell_type": "code",
   "execution_count": 13,
   "metadata": {},
   "outputs": [],
   "source": [
    "for i in range(0, len(trainheadlines)):\n",
    "    trainheadlines[i] = re.sub(r'\\d+', '', trainheadlines[i])"
   ]
  },
  {
   "cell_type": "code",
   "execution_count": 14,
   "metadata": {
    "scrolled": true
   },
   "outputs": [
    {
     "data": {
      "text/plain": [
       "'Georgia \\'downs two Russian warplanes\\' as countries move to brink of war\" BREAKING: Musharraf to be impeached.\\' Russia Today: Columns of troops roll into South Ossetia; footage from fighting (YouTube)\\' Russian tanks are moving towards the capital of South Ossetia, which has reportedly been completely destroyed by Georgian artillery fire\\' Afghan children raped with \\'impunity,\\' U.N. official says - this is sick, a three year old was raped and they do nothing\"  Russian tanks have entered South Ossetia whilst Georgia shoots down two Russian jets.\\' Breaking: Georgia invades South Ossetia, Russia warned it would intervene on SO\\'s side\" The \\'enemy combatent\\' trials are nothing but a sham: Salim Haman has been sentenced to  / years, but will be kept longer anyway just because they feel like it.\" Georgian troops retreat from S. Osettain capital, presumably leaving several hundred people killed. [VIDEO]\\' Did the U.S. Prep Georgia for War with Russia?\\' Rice Gives Green Light for Israel to Attack Iran: Says U.S. has no veto over Israeli military ops\\' Announcing:Class Action Lawsuit on Behalf of American Public Against the FBI\\' So---Russia and Georgia are at war and the NYT\\'s top story is opening ceremonies of the Olympics?  What a fucking disgrace and yet further proof of the decline of journalism.\" China tells Bush to stay out of other countries\\' affairs\" Did World War III start today?\\' Georgia Invades South Ossetia - if Russia gets involved, will NATO absorb Georgia and unleash a full scale war?\\' Al-Qaeda Faces Islamist Backlash\\' Condoleezza Rice: \"The US would not act to prevent an Israeli strike on Iran.\" Israeli Defense Minister Ehud Barak: \"Israel is prepared for uncompromising victory in the case of military hostilities.\"\\' This is a busy day:  The European Union has approved new sanctions against Iran in protest at its nuclear programme.\\' Georgia will withdraw , soldiers from Iraq to help fight off Russian forces in Georgia\\'s breakaway region of South Ossetia\" Why the Pentagon Thinks Attacking Iran is a Bad Idea - US News &amp; World Report\\' Caucasus in crisis: Georgia invades South Ossetia\\' Indian shoe manufactory  - And again in a series of \"you do not like your work?\"\\' Visitors Suffering from Mental Illnesses Banned from Olympics\\' No Help for Mexico\\'s Kidnapping Surge\"'"
      ]
     },
     "execution_count": 14,
     "metadata": {},
     "output_type": "execute_result"
    }
   ],
   "source": [
    "trainheadlines[0]"
   ]
  },
  {
   "cell_type": "markdown",
   "metadata": {},
   "source": [
    "c) Remove punctuation"
   ]
  },
  {
   "cell_type": "code",
   "execution_count": 17,
   "metadata": {},
   "outputs": [],
   "source": [
    "for i in range(0, len(trainheadlines)):\n",
    "    trainheadlines[i] = trainheadlines[i].translate(str.maketrans(\"\",\"\", string.punctuation))"
   ]
  },
  {
   "cell_type": "code",
   "execution_count": 18,
   "metadata": {},
   "outputs": [
    {
     "data": {
      "text/plain": [
       "'Georgia downs two Russian warplanes as countries move to brink of war BREAKING Musharraf to be impeached Russia Today Columns of troops roll into South Ossetia footage from fighting YouTube Russian tanks are moving towards the capital of South Ossetia which has reportedly been completely destroyed by Georgian artillery fire Afghan children raped with impunity UN official says  this is sick a three year old was raped and they do nothing  Russian tanks have entered South Ossetia whilst Georgia shoots down two Russian jets Breaking Georgia invades South Ossetia Russia warned it would intervene on SOs side The enemy combatent trials are nothing but a sham Salim Haman has been sentenced to   years but will be kept longer anyway just because they feel like it Georgian troops retreat from S Osettain capital presumably leaving several hundred people killed VIDEO Did the US Prep Georgia for War with Russia Rice Gives Green Light for Israel to Attack Iran Says US has no veto over Israeli military ops AnnouncingClass Action Lawsuit on Behalf of American Public Against the FBI SoRussia and Georgia are at war and the NYTs top story is opening ceremonies of the Olympics  What a fucking disgrace and yet further proof of the decline of journalism China tells Bush to stay out of other countries affairs Did World War III start today Georgia Invades South Ossetia  if Russia gets involved will NATO absorb Georgia and unleash a full scale war AlQaeda Faces Islamist Backlash Condoleezza Rice The US would not act to prevent an Israeli strike on Iran Israeli Defense Minister Ehud Barak Israel is prepared for uncompromising victory in the case of military hostilities This is a busy day  The European Union has approved new sanctions against Iran in protest at its nuclear programme Georgia will withdraw  soldiers from Iraq to help fight off Russian forces in Georgias breakaway region of South Ossetia Why the Pentagon Thinks Attacking Iran is a Bad Idea  US News amp World Report Caucasus in crisis Georgia invades South Ossetia Indian shoe manufactory   And again in a series of you do not like your work Visitors Suffering from Mental Illnesses Banned from Olympics No Help for Mexicos Kidnapping Surge'"
      ]
     },
     "execution_count": 18,
     "metadata": {},
     "output_type": "execute_result"
    }
   ],
   "source": [
    "trainheadlines[0]"
   ]
  },
  {
   "cell_type": "markdown",
   "metadata": {},
   "source": [
    "d) Stemming"
   ]
  },
  {
   "cell_type": "markdown",
   "metadata": {},
   "source": [
    "NLTK: \"Stemming is the process of reducing inflection in words to their root forms such as mapping a group of words to the same stem even if the stem itself is not a valid word in the Language.\"\n",
    "\n",
    "This will allow us to reduce the vocabulary length used later in our Bag-of-words model."
   ]
  },
  {
   "cell_type": "code",
   "execution_count": 19,
   "metadata": {},
   "outputs": [],
   "source": [
    "from nltk.stem import PorterStemmer\n",
    "from nltk.tokenize import word_tokenize"
   ]
  },
  {
   "cell_type": "code",
   "execution_count": 20,
   "metadata": {},
   "outputs": [],
   "source": [
    "stemmer = PorterStemmer()"
   ]
  },
  {
   "cell_type": "code",
   "execution_count": 21,
   "metadata": {},
   "outputs": [],
   "source": [
    "def stemSentence(stemmer, sentence):\n",
    "    token_words=word_tokenize(sentence)\n",
    "    token_words\n",
    "    stem_sentence=[]\n",
    "    for word in token_words:\n",
    "        stem_sentence.append(stemmer.stem(word))\n",
    "        stem_sentence.append(\" \")\n",
    "    return \"\".join(stem_sentence)"
   ]
  },
  {
   "cell_type": "code",
   "execution_count": 22,
   "metadata": {},
   "outputs": [
    {
     "data": {
      "text/plain": [
       "'georgia down two russian warplan as countri move to brink of war break musharraf to be impeach russia today column of troop roll into south ossetia footag from fight youtub russian tank are move toward the capit of south ossetia which ha reportedli been complet destroy by georgian artilleri fire afghan children rape with impun UN offici say thi is sick a three year old wa rape and they do noth russian tank have enter south ossetia whilst georgia shoot down two russian jet break georgia invad south ossetia russia warn it would interven on so side the enemi combat trial are noth but a sham salim haman ha been sentenc to year but will be kept longer anyway just becaus they feel like it georgian troop retreat from S osettain capit presum leav sever hundr peopl kill video did the US prep georgia for war with russia rice give green light for israel to attack iran say US ha no veto over isra militari op announcingclass action lawsuit on behalf of american public against the fbi sorussia and georgia are at war and the nyt top stori is open ceremoni of the olymp what a fuck disgrac and yet further proof of the declin of journal china tell bush to stay out of other countri affair did world war iii start today georgia invad south ossetia if russia get involv will nato absorb georgia and unleash a full scale war alqaeda face islamist backlash condoleezza rice the US would not act to prevent an isra strike on iran isra defens minist ehud barak israel is prepar for uncompromis victori in the case of militari hostil thi is a busi day the european union ha approv new sanction against iran in protest at it nuclear programm georgia will withdraw soldier from iraq to help fight off russian forc in georgia breakaway region of south ossetia whi the pentagon think attack iran is a bad idea US new amp world report caucasu in crisi georgia invad south ossetia indian shoe manufactori and again in a seri of you do not like your work visitor suffer from mental ill ban from olymp No help for mexico kidnap surg '"
      ]
     },
     "execution_count": 22,
     "metadata": {},
     "output_type": "execute_result"
    }
   ],
   "source": [
    "stemSentence(stemmer, trainheadlines[0])"
   ]
  },
  {
   "cell_type": "code",
   "execution_count": 23,
   "metadata": {},
   "outputs": [],
   "source": [
    "for i in range(0, len(trainheadlines)):\n",
    "    trainheadlines[i] = stemSentence(stemmer, trainheadlines[i])"
   ]
  },
  {
   "cell_type": "markdown",
   "metadata": {},
   "source": [
    "We can put all the text processing steps in one function that we will use later for cleaning the test dataset:"
   ]
  },
  {
   "cell_type": "code",
   "execution_count": 24,
   "metadata": {},
   "outputs": [],
   "source": [
    "def text_cleaning(dataset):\n",
    "    headlines = []\n",
    "    for row in range(0,len(dataset)):\n",
    "        headlines.append(' '.join(str(x) for x in dataset.iloc[row,2:27]))\n",
    "    \n",
    "    cleaned_headlines = headlines\n",
    "    for i in range(0, len(headlines)):\n",
    "        cleaned_headlines[i] = re.sub('b[^a-zA-Z ]', '', headlines[i])\n",
    "        cleaned_headlines[i] = re.sub(r'\\d+', '', cleaned_headlines[i])\n",
    "        cleaned_headlines[i] = cleaned_headlines[i].translate(str.maketrans(\"\",\"\", string.punctuation))\n",
    "        cleaned_headlines[i] = stemSentence(stemmer, cleaned_headlines[i])\n",
    "    return cleaned_headlines"
   ]
  },
  {
   "cell_type": "markdown",
   "metadata": {},
   "source": [
    "Now let's fit transform the text features into numeric ones with:\n",
    "\n",
    "* a one-hot-encoding (bag-of-words):\n",
    "* a bi-gram (n-gram with n=2)\n",
    "* a tri-gram (n-gram with n=3)\n",
    "* a four-gram (n-gram with n=4)"
   ]
  },
  {
   "cell_type": "code",
   "execution_count": 25,
   "metadata": {},
   "outputs": [],
   "source": [
    "onehotvectorizer = CountVectorizer(stop_words='english')\n",
    "onehottrain = onehotvectorizer.fit_transform(trainheadlines)\n",
    "\n",
    "bigramvectorizer = CountVectorizer(stop_words='english', ngram_range=(2,2))\n",
    "bigramtrain = bigramvectorizer.fit_transform(trainheadlines)\n",
    "\n",
    "trigramvectorizer = CountVectorizer(stop_words='english', ngram_range=(3,3))\n",
    "trigramtrain = trigramvectorizer.fit_transform(trainheadlines)\n",
    "\n",
    "fourgramvectorizer = CountVectorizer(stop_words='english', ngram_range=(4,4))\n",
    "fourgramtrain = fourgramvectorizer.fit_transform(trainheadlines)"
   ]
  },
  {
   "cell_type": "markdown",
   "metadata": {},
   "source": [
    "<h3>Classifiers"
   ]
  },
  {
   "cell_type": "code",
   "execution_count": 27,
   "metadata": {},
   "outputs": [],
   "source": [
    "logis_model_onehot = LogisticRegression(solver='liblinear').fit(onehottrain, train[\"Label\"])\n",
    "logis_model_bigram = LogisticRegression(solver='liblinear').fit(bigramtrain, train[\"Label\"])\n",
    "logis_model_trigram = LogisticRegression(solver='liblinear').fit(trigramtrain, train[\"Label\"])\n",
    "logis_model_fourgram = LogisticRegression(solver='liblinear').fit(fourgramtrain, train[\"Label\"])"
   ]
  },
  {
   "cell_type": "code",
   "execution_count": 28,
   "metadata": {},
   "outputs": [],
   "source": [
    "rf_model_onehot = RandomForestClassifier().fit(onehottrain, train[\"Label\"])\n",
    "rf_model_bigram = RandomForestClassifier().fit(bigramtrain, train[\"Label\"])\n",
    "rf_model_trigram = RandomForestClassifier().fit(trigramtrain, train[\"Label\"])\n",
    "rf_model_fourgram = RandomForestClassifier().fit(fourgramtrain, train[\"Label\"])"
   ]
  },
  {
   "cell_type": "markdown",
   "metadata": {},
   "source": [
    "<h3>Performance on train and test set</h3>"
   ]
  },
  {
   "cell_type": "markdown",
   "metadata": {},
   "source": [
    "Note: we have not performed a cross-validation as it is usual in machine learning because of the peculiar nature of our data (dependent on time). Cross-validation is usually performed to fine-tune the parameters of our models.\n",
    "\n",
    "Here even if a cross-validation were performed, because of the dynamic nature of our data, nothing garanties the performance of the models on newly aggregated data. Hence we here intentionally make the \"mistake\" of directly looking at the performances on the test data."
   ]
  },
  {
   "cell_type": "code",
   "execution_count": 34,
   "metadata": {},
   "outputs": [],
   "source": [
    "test_onehot = onehotvectorizer.transform(text_cleaning(test))\n",
    "test_bigram = bigramvectorizer.transform(text_cleaning(test))\n",
    "test_trigram = trigramvectorizer.transform(text_cleaning(test))\n",
    "test_fourgram = fourgramvectorizer.transform(text_cleaning(test))"
   ]
  },
  {
   "cell_type": "code",
   "execution_count": 35,
   "metadata": {},
   "outputs": [
    {
     "data": {
      "text/plain": [
       "Text(0, 0.5, 'Accuracy')"
      ]
     },
     "execution_count": 35,
     "metadata": {},
     "output_type": "execute_result"
    },
    {
     "data": {
      "image/png": "[encoded data removed]",
      "text/plain": [
       "<Figure size 432x288 with 1 Axes>"
      ]
     },
     "metadata": {},
     "output_type": "display_data"
    }
   ],
   "source": [
    "accuracy_train_LR = np.zeros(4)\n",
    "accuracy_test_LR = np.zeros(4)\n",
    "accuracy_train_RF = np.zeros(4)\n",
    "accuracy_test_RF = np.zeros(4)\n",
    "\n",
    "accuracy_train_LR[0] = logis_model_onehot.score(onehottrain,train[\"Label\"])\n",
    "accuracy_train_LR[1] = logis_model_bigram.score(bigramtrain,train[\"Label\"])\n",
    "accuracy_train_LR[2] = logis_model_trigram.score(trigramtrain,train[\"Label\"])\n",
    "accuracy_train_LR[3] = logis_model_fourgram.score(fourgramtrain,train[\"Label\"])\n",
    "\n",
    "accuracy_test_LR[0] = logis_model_onehot.score(test_onehot,test[\"Label\"])\n",
    "accuracy_test_LR[1] = logis_model_bigram.score(test_bigram,test[\"Label\"])\n",
    "accuracy_test_LR[2] = logis_model_trigram.score(test_trigram,test[\"Label\"])\n",
    "accuracy_test_LR[3] = logis_model_fourgram.score(test_fourgram,test[\"Label\"])\n",
    "\n",
    "accuracy_train_RF[0] = rf_model_onehot.score(onehottrain,train[\"Label\"])\n",
    "accuracy_train_RF[1] = rf_model_bigram.score(bigramtrain,train[\"Label\"])\n",
    "accuracy_train_RF[2] = rf_model_trigram.score(trigramtrain,train[\"Label\"])\n",
    "accuracy_train_RF[3] = rf_model_fourgram.score(fourgramtrain,train[\"Label\"])\n",
    "\n",
    "accuracy_test_RF[0] = rf_model_onehot.score(test_onehot,test[\"Label\"])\n",
    "accuracy_test_RF[1] = rf_model_bigram.score(test_bigram,test[\"Label\"])\n",
    "accuracy_test_RF[2] = rf_model_trigram.score(test_trigram,test[\"Label\"])\n",
    "accuracy_test_RF[3] = rf_model_fourgram.score(test_fourgram,test[\"Label\"])\n",
    "\n",
    "plt.plot([1,2,3,4], accuracy_train_LR)\n",
    "plt.plot([1,2,3,4], accuracy_test_LR)\n",
    "\n",
    "plt.plot([1,2,3,4], accuracy_train_RF)\n",
    "plt.plot([1,2,3,4], accuracy_test_RF)\n",
    "\n",
    "plt.legend(['LR train', 'LR test', 'RF train', 'RF test'])\n",
    "plt.xlabel('N-Gram')\n",
    "plt.ylabel('Accuracy')"
   ]
  },
  {
   "cell_type": "markdown",
   "metadata": {},
   "source": [
    "Comments:\n",
    "* We see very high precision on the train set, this could indicate overfitting on this dataset. In the next step, let's try to soothe this issue with Regularization.\n",
    "* Going from one-hot-encoding to bi-grams have improved the accuracy of the Logistic Regression model and the performance for the Random Forest stayed nearly constant. However increasing the number to 3 and 4 do not improve the accuracy of the predictions. We will therefore stick to bi-grams. "
   ]
  },
  {
   "cell_type": "markdown",
   "metadata": {},
   "source": [
    "Let's inspect the confusion matrix of the bi-gram models:"
   ]
  },
  {
   "cell_type": "code",
   "execution_count": 36,
   "metadata": {},
   "outputs": [],
   "source": [
    "predictions_lr_bigram = logis_model_bigram.predict(test_bigram)\n",
    "predictions_rf_bigram = rf_model_bigram.predict(test_bigram)"
   ]
  },
  {
   "cell_type": "code",
   "execution_count": 37,
   "metadata": {},
   "outputs": [
    {
     "data": {
      "text/html": [
       "<div>\n",
       "<style scoped>\n",
       "    .dataframe tbody tr th:only-of-type {\n",
       "        vertical-align: middle;\n",
       "    }\n",
       "\n",
       "    .dataframe tbody tr th {\n",
       "        vertical-align: top;\n",
       "    }\n",
       "\n",
       "    .dataframe thead th {\n",
       "        text-align: right;\n",
       "    }\n",
       "</style>\n",
       "<table border=\"1\" class=\"dataframe\">\n",
       "  <thead>\n",
       "    <tr style=\"text-align: right;\">\n",
       "      <th>Predicted</th>\n",
       "      <th>0</th>\n",
       "      <th>1</th>\n",
       "    </tr>\n",
       "    <tr>\n",
       "      <th>Actual</th>\n",
       "      <th></th>\n",
       "      <th></th>\n",
       "    </tr>\n",
       "  </thead>\n",
       "  <tbody>\n",
       "    <tr>\n",
       "      <th>0</th>\n",
       "      <td>30</td>\n",
       "      <td>156</td>\n",
       "    </tr>\n",
       "    <tr>\n",
       "      <th>1</th>\n",
       "      <td>30</td>\n",
       "      <td>162</td>\n",
       "    </tr>\n",
       "  </tbody>\n",
       "</table>\n",
       "</div>"
      ],
      "text/plain": [
       "Predicted   0    1\n",
       "Actual            \n",
       "0          30  156\n",
       "1          30  162"
      ]
     },
     "execution_count": 37,
     "metadata": {},
     "output_type": "execute_result"
    }
   ],
   "source": [
    "pd.crosstab(test[\"Label\"], predictions_lr_bigram, rownames=[\"Actual\"], colnames=[\"Predicted\"])"
   ]
  },
  {
   "cell_type": "code",
   "execution_count": 38,
   "metadata": {},
   "outputs": [
    {
     "data": {
      "text/html": [
       "<div>\n",
       "<style scoped>\n",
       "    .dataframe tbody tr th:only-of-type {\n",
       "        vertical-align: middle;\n",
       "    }\n",
       "\n",
       "    .dataframe tbody tr th {\n",
       "        vertical-align: top;\n",
       "    }\n",
       "\n",
       "    .dataframe thead th {\n",
       "        text-align: right;\n",
       "    }\n",
       "</style>\n",
       "<table border=\"1\" class=\"dataframe\">\n",
       "  <thead>\n",
       "    <tr style=\"text-align: right;\">\n",
       "      <th>Predicted</th>\n",
       "      <th>0</th>\n",
       "      <th>1</th>\n",
       "    </tr>\n",
       "    <tr>\n",
       "      <th>Actual</th>\n",
       "      <th></th>\n",
       "      <th></th>\n",
       "    </tr>\n",
       "  </thead>\n",
       "  <tbody>\n",
       "    <tr>\n",
       "      <th>0</th>\n",
       "      <td>20</td>\n",
       "      <td>166</td>\n",
       "    </tr>\n",
       "    <tr>\n",
       "      <th>1</th>\n",
       "      <td>15</td>\n",
       "      <td>177</td>\n",
       "    </tr>\n",
       "  </tbody>\n",
       "</table>\n",
       "</div>"
      ],
      "text/plain": [
       "Predicted   0    1\n",
       "Actual            \n",
       "0          20  166\n",
       "1          15  177"
      ]
     },
     "execution_count": 38,
     "metadata": {},
     "output_type": "execute_result"
    }
   ],
   "source": [
    "pd.crosstab(test[\"Label\"], predictions_rf_bigram, rownames=[\"Actual\"], colnames=[\"Predicted\"])"
   ]
  },
  {
   "cell_type": "markdown",
   "metadata": {},
   "source": [
    "We see that the predictions are severely skewed. Let's try to remediate this problem with Regularization."
   ]
  },
  {
   "cell_type": "markdown",
   "metadata": {},
   "source": [
    "Regularization"
   ]
  },
  {
   "cell_type": "markdown",
   "metadata": {},
   "source": [
    "a) Regularization Logistic Regression "
   ]
  },
  {
   "cell_type": "markdown",
   "metadata": {},
   "source": [
    "L2 Regularization:"
   ]
  },
  {
   "cell_type": "code",
   "execution_count": 39,
   "metadata": {},
   "outputs": [
    {
     "data": {
      "text/plain": [
       "Text(0, 0.5, 'Accuracy')"
      ]
     },
     "execution_count": 39,
     "metadata": {},
     "output_type": "execute_result"
    },
    {
     "data": {
      "image/png": "[encoded data removed]",
      "text/plain": [
       "<Figure size 432x288 with 1 Axes>"
      ]
     },
     "metadata": {},
     "output_type": "display_data"
    }
   ],
   "source": [
    "# By default LR uses L2 regression, let's try a stronger regularization strength (we diminish C)\n",
    "parameters_C = np.linspace(0.1,5, 100)\n",
    "accuracy_LR_train = np.zeros(len(parameters_C))\n",
    "accuracy_LR_test = np.zeros(len(parameters_C))\n",
    "\n",
    "for i,param_C in enumerate(parameters_C):\n",
    "    logis_model_bigram_reg = LogisticRegression(solver='liblinear', C = param_C).fit(bigramtrain, train[\"Label\"])\n",
    "    accuracy_LR_train[i] = logis_model_bigram_reg.score(bigramtrain,train[\"Label\"])\n",
    "    accuracy_LR_test[i] = logis_model_bigram_reg.score(test_bigram,test[\"Label\"])\n",
    "    \n",
    "plt.plot(parameters_C, accuracy_LR_train)\n",
    "plt.plot(parameters_C, accuracy_LR_test)\n",
    "plt.legend(['LR train', 'LR test'])\n",
    "plt.xlabel('C')\n",
    "plt.ylabel('Accuracy')\n",
    "\n"
   ]
  },
  {
   "cell_type": "markdown",
   "metadata": {},
   "source": [
    "Regularization unfortunately did not improve our results on the test set. Let's try the same with a L1 Regularization."
   ]
  },
  {
   "cell_type": "markdown",
   "metadata": {},
   "source": [
    "L1 Regularization:"
   ]
  },
  {
   "cell_type": "code",
   "execution_count": 40,
   "metadata": {},
   "outputs": [
    {
     "data": {
      "text/plain": [
       "Text(0, 0.5, 'Accuracy')"
      ]
     },
     "execution_count": 40,
     "metadata": {},
     "output_type": "execute_result"
    },
    {
     "data": {
      "image/png": "[encoded data removed]",
      "text/plain": [
       "<Figure size 432x288 with 1 Axes>"
      ]
     },
     "metadata": {},
     "output_type": "display_data"
    }
   ],
   "source": [
    "parameters_C = np.linspace(0.1,5, 100)\n",
    "accuracy_LR_train = np.zeros(len(parameters_C))\n",
    "accuracy_LR_test = np.zeros(len(parameters_C))\n",
    "\n",
    "for i,param_C in enumerate(parameters_C):\n",
    "    logis_model_bigram_reg = LogisticRegression(solver='liblinear', penalty='l1', C = param_C).fit(bigramtrain, train[\"Label\"])\n",
    "    accuracy_LR_train[i] = logis_model_bigram_reg.score(bigramtrain,train[\"Label\"])\n",
    "    accuracy_LR_test[i] = logis_model_bigram_reg.score(test_bigram,test[\"Label\"])\n",
    "    \n",
    "plt.plot(parameters_C, accuracy_LR_train)\n",
    "plt.plot(parameters_C, accuracy_LR_test)\n",
    "plt.legend(['LR train', 'LR test'])\n",
    "plt.xlabel('C')\n",
    "plt.ylabel('Accuracy')\n"
   ]
  },
  {
   "cell_type": "markdown",
   "metadata": {},
   "source": [
    "In the L1 Regularization, surprisingly, higher values of C increased slightly the performance on the test set. We were expecting that lower values of C (stronger regularization) will lead to better results on the test set.\n",
    "\n",
    "This is opposite to our intuition, and we will place too much confidence on these high values of C.\n",
    "\n",
    "Let's consider Regularization for the Random Forest:"
   ]
  },
  {
   "cell_type": "markdown",
   "metadata": {},
   "source": [
    "b) Regularization Random Forest "
   ]
  },
  {
   "cell_type": "markdown",
   "metadata": {},
   "source": [
    "Let's play here with max_depth parameter to try to regularize the model."
   ]
  },
  {
   "cell_type": "code",
   "execution_count": 41,
   "metadata": {},
   "outputs": [
    {
     "data": {
      "text/plain": [
       "Text(0, 0.5, 'Accuracy')"
      ]
     },
     "execution_count": 41,
     "metadata": {},
     "output_type": "execute_result"
    },
    {
     "data": {
      "image/png": "[encoded data removed]",
      "text/plain": [
       "<Figure size 432x288 with 1 Axes>"
      ]
     },
     "metadata": {},
     "output_type": "display_data"
    }
   ],
   "source": [
    "parameters_depths = [i for i in range(1,30)]\n",
    "accuracy_RF_train = np.zeros(len(parameters_depths))\n",
    "accuracy_RF_test = np.zeros(len(parameters_depths))\n",
    "\n",
    "for i,param_depth in enumerate(parameters_depths):\n",
    "    rf_model_bigram_reg = RandomForestClassifier(max_depth=param_depth).fit(bigramtrain, train[\"Label\"])\n",
    "    accuracy_RF_train[i] = rf_model_bigram_reg.score(bigramtrain,train[\"Label\"])\n",
    "    accuracy_RF_test[i] = rf_model_bigram_reg.score(test_bigram,test[\"Label\"])\n",
    "    \n",
    "plt.plot(parameters_depths, accuracy_RF_train)\n",
    "plt.plot(parameters_depths, accuracy_RF_test)\n",
    "plt.legend(['RF train', 'RF test'])\n",
    "plt.xlabel('Max depth')\n",
    "plt.ylabel('Accuracy')"
   ]
  },
  {
   "cell_type": "markdown",
   "metadata": {},
   "source": [
    "Here the accuracy values on the test set are quite wiggly. However, one value stands out, the value at depth 5 which gives an accuracy slightly below 55% on the test set. \n",
    "\n",
    "More precisely, it has the precision:"
   ]
  },
  {
   "cell_type": "code",
   "execution_count": 42,
   "metadata": {},
   "outputs": [
    {
     "data": {
      "text/plain": [
       "0.5343915343915344"
      ]
     },
     "execution_count": 42,
     "metadata": {},
     "output_type": "execute_result"
    }
   ],
   "source": [
    "accuracy_RF_test[4]"
   ]
  },
  {
   "cell_type": "markdown",
   "metadata": {},
   "source": [
    "This is above our benchmark model of 50.7% and will be our optimal model for the study. \n",
    "Note that this is only around 3% higher than the accuracy of the benchmark model."
   ]
  },
  {
   "cell_type": "markdown",
   "metadata": {},
   "source": [
    "<h3>Conclusion\n"
   ]
  },
  {
   "cell_type": "markdown",
   "metadata": {},
   "source": [
    "The study was divided in two phases: a first phase on text processing and a second phase on classifiers model building. The first phase goal was to clean the text data (removing punctuations, stopwords, lowercase text, removing numbers, stemming the text) and then to get numerical features with the text with a bag-of-words model associated with n-grams. \n",
    "The second phase was to test the Logistic Regression and Random Forest classifiers on test data to see the performance of our model. Moreover, we tried different regularization methods to try to minimize overfitting.\n",
    "In the end, the model that seems the most promising is the Random Forest Classifier where the maximum_depth is limited to 5, which gives an accuracy of 53.4%. This is only around 3% higher than the Benchmark model that predicts only 1s and the higher performance could simply due by chance. Indeed, countless parameters enter in stock price movements and the top 25 Global News on Reddit are only a tiny fraction of the vast amount of information available to investors. Even though, in this study we simplified the problem to a simple binary prediction, the performance of the different models are not significantly different from the Benchmark model.\n"
   ]
  },
  {
   "cell_type": "markdown",
   "metadata": {},
   "source": [
    "Next steps:\n",
    "\n",
    "* Using Word2Vec instead of N-Grams (for instance by using the library Gensim)\n",
    "* Considering Convolutional Neural Network / Recurrent Neural Network for prediction\n",
    "* Use other windows of data for prediction\n",
    "    * Here we used the popular news on a given day to predict the DJIA index direction on the same day. We could instead use the news over the last $n$ days to predict the direction of stock on day $n+1$.\n",
    "* Use better quality news and directly connected to financial markets. \n",
    "* Combine news data with past stock prices to predict future returns"
   ]
  },
  {
   "cell_type": "code",
   "execution_count": null,
   "metadata": {},
   "outputs": [],
   "source": []
  }
 ],
 "metadata": {
  "kernelspec": {
   "display_name": "Python 3",
   "language": "python",
   "name": "python3"
  },
  "language_info": {
   "codemirror_mode": {
    "name": "ipython",
    "version": 3
   },
   "file_extension": ".py",
   "mimetype": "text/x-python",
   "name": "python",
   "nbconvert_exporter": "python",
   "pygments_lexer": "ipython3",
   "version": "3.7.1"
  }
 },
 "nbformat": 4,
 "nbformat_minor": 2
}
